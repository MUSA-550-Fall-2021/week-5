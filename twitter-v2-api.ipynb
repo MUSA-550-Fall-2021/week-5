{
 "cells": [
  {
   "cell_type": "markdown",
   "id": "386b2943",
   "metadata": {},
   "source": [
    "# Academic access for Twitter API v2\n",
    "\n",
    "\n",
    "You can apply for academic access using [this page](https://developer.twitter.com/en/portal/petition/academic/is-it-right-for-you). More information about the application process is available at [this link](https://developer.twitter.com/en/products/twitter-api/academic-research/application-info).\n",
    "\n",
    "One challenge is that you must list a public student profile page associated with Penn. My best recommendation is to list the [public Penn directory](https://directory.apps.upenn.edu/directory/jsp/fast.do) and then make sure the name listed on the application matches your name in the directory so that they will be able to search for you.\n",
    "\n",
    "Once you have academic access you should see \"ACADEMIC\" listed on https://developer.twitter.com/en/portal/dashboard.\n",
    "\n",
    "<div>\n",
    "    <img src=\"imgs/twitter-api-1.png\" width=500/>\n",
    "</div>\n",
    "\n",
    "With academic access in v2, the new limits for the search API are significantly more than permissive than with v1 access. There are two search endpoints:\n",
    "\n",
    "1. `client.search_recent_tweets()` [docs](https://docs.tweepy.org/en/stable/client.html#tweepy.Client.search_recent_tweets): Search one recent tweets within the last 7 days, \n",
    "1. `client.search_all_tweets()` [docs](https://docs.tweepy.org/en/stable/client.html#tweepy.Client.search_all_tweets): Search all historical tweets going back to 2006. "
   ]
  },
  {
   "cell_type": "markdown",
   "id": "8cc0f822",
   "metadata": {},
   "source": [
    "<div>\n",
    "    <img src=\"imgs/twitter-api-2.png\" width=700 />\n",
    "</div>\n",
    "\n",
    "For historical search, you are allowed 300 requests per every 15 minutes, and can access 500 tweets per requests, so you can pull 150,000 tweets per every 15 minutes. The required wait time between requests is one second. \n",
    "\n",
    "## Major Changes\n",
    "\n",
    "By default, only the text and tweet id are returned by Tweepy. You can request more fields using the \"tweet_fields\" keyword. Available attributes are listed [on the documentation](https://developer.twitter.com/en/docs/twitter-api/data-dictionary/object-model/tweet). Below, we add the \"created_at\" field to capture when the tweets were created.\n",
    "\n",
    "There are also two new functions: `get_all_tweets_count()` and `get_recent_tweets_count()` which return the total tweet count with a specified frequency, e.g., daily, monthly, etc. for the tweets that match the input query.\n",
    "\n",
    "The operators in the search query string have also changed, see [the documentation](https://developer.twitter.com/en/docs/twitter-api/enterprise/rules-and-filtering/operators-by-product) for examples.\n",
    "\n",
    "The `tw.Cursor` object has been renamed to the `tw.Paginator` class in v2. \n",
    "\n",
    "## References\n",
    "\n",
    "- [Tutorial on tweepy with v2 API](https://dev.to/twitterdev/a-comprehensive-guide-for-using-the-twitter-api-v2-using-tweepy-in-python-15d9) -- **very good tutorial, definitely read this**\n",
    "- [Twitter search API documentation](https://developer.twitter.com/en/docs/twitter-api/tweets/search/introduction)\n",
    "- [Search query operators](https://developer.twitter.com/en/docs/twitter-api/enterprise/rules-and-filtering/operators-by-product)"
   ]
  },
  {
   "cell_type": "markdown",
   "id": "43674c82",
   "metadata": {},
   "source": [
    "## Important: Update your musa-550-fall-2021 environment\n",
    "\n",
    "To use the v2 API, we'll need the latest version of tweepy. You can update your course environment using the [instructions on the course website](https://musa-550-fall-2021.github.io/guides/conda#updating-an-existing-environment).\n",
    "\n",
    "From the command line run, \n",
    "\n",
    "```\n",
    "conda env update pennmusa/musa-550-fall-2021\n",
    "```"
   ]
  },
  {
   "cell_type": "code",
   "execution_count": 1,
   "id": "a8ebb10e",
   "metadata": {},
   "outputs": [],
   "source": [
    "import tweepy as tw\n",
    "import pandas as pd\n",
    "import numpy as np\n",
    "import time\n",
    "import requests\n",
    "from datetime import datetime\n",
    "import seaborn as sns\n",
    "from matplotlib import pyplot as plt\n",
    "import calendar"
   ]
  },
  {
   "cell_type": "code",
   "execution_count": 2,
   "id": "3b4d074b",
   "metadata": {},
   "outputs": [
    {
     "name": "stdout",
     "output_type": "stream",
     "text": [
      "4.4.0\n"
     ]
    }
   ],
   "source": [
    "print(tw.__version__) # Make sure this is > 4.0"
   ]
  },
  {
   "cell_type": "code",
   "execution_count": 3,
   "id": "1ed7ed39",
   "metadata": {},
   "outputs": [],
   "source": [
    "# Get this from the app that you create on the developer portal\n",
    "BEARER_TOKEN = \"REPLACE ME\""
   ]
  },
  {
   "cell_type": "code",
   "execution_count": 4,
   "id": "53086007",
   "metadata": {},
   "outputs": [],
   "source": [
    "# Initialize the API client and tell tweepy to wait if rate limit is met\n",
    "client = tw.Client(bearer_token=BEARER_TOKEN, wait_on_rate_limit=True)"
   ]
  },
  {
   "cell_type": "markdown",
   "id": "59fa5db2",
   "metadata": {},
   "source": [
    "## 1. Historical tweets for a specified time period\n",
    "\n",
    "Below, we select all tweets with the hashtag \"phillies\" during calendar year 2020 and exclude any retweets."
   ]
  },
  {
   "cell_type": "code",
   "execution_count": 5,
   "id": "3c2e6d2f",
   "metadata": {},
   "outputs": [],
   "source": [
    "# Search for phillies hashtag and remove retweets\n",
    "query = \"#phillies -is:retweet\" # remove retweets using hypen\n",
    "\n",
    "# Example start and end date\n",
    "start_date = datetime.strptime(\"2020-01-01\", \"%Y-%m-%d\")\n",
    "end_date = datetime.strptime(\"2020-12-31\", \"%Y-%m-%d\")"
   ]
  },
  {
   "cell_type": "code",
   "execution_count": 6,
   "id": "0fe5ef94",
   "metadata": {
    "scrolled": false
   },
   "outputs": [
    {
     "name": "stdout",
     "output_type": "stream",
     "text": [
      "Request #0\n"
     ]
    },
    {
     "ename": "KeyboardInterrupt",
     "evalue": "",
     "output_type": "error",
     "traceback": [
      "\u001b[0;31m---------------------------------------------------------------------------\u001b[0m",
      "\u001b[0;31mKeyboardInterrupt\u001b[0m                         Traceback (most recent call last)",
      "\u001b[0;32m/var/folders/49/ntrr94q12xd4rq8hqdnx96gm0000gn/T/ipykernel_1400/4072675979.py\u001b[0m in \u001b[0;36m<module>\u001b[0;34m\u001b[0m\n\u001b[1;32m      4\u001b[0m \u001b[0;31m# Use the paginator to loop over all available tweets in batches of 500\u001b[0m\u001b[0;34m\u001b[0m\u001b[0;34m\u001b[0m\u001b[0;34m\u001b[0m\u001b[0m\n\u001b[1;32m      5\u001b[0m \u001b[0;31m# This pulls 500 tweets at a time until all tweets from the time period are pulled\u001b[0m\u001b[0;34m\u001b[0m\u001b[0;34m\u001b[0m\u001b[0;34m\u001b[0m\u001b[0m\n\u001b[0;32m----> 6\u001b[0;31m for i, tweets in enumerate(\n\u001b[0m\u001b[1;32m      7\u001b[0m     tw.Paginator(\n\u001b[1;32m      8\u001b[0m         \u001b[0mclient\u001b[0m\u001b[0;34m.\u001b[0m\u001b[0msearch_all_tweets\u001b[0m\u001b[0;34m,\u001b[0m\u001b[0;34m\u001b[0m\u001b[0;34m\u001b[0m\u001b[0m\n",
      "\u001b[0;32m~/opt/miniconda3/envs/musa-550-fall-2021/lib/python3.8/site-packages/tweepy/pagination.py\u001b[0m in \u001b[0;36m__next__\u001b[0;34m(self)\u001b[0m\n\u001b[1;32m     94\u001b[0m             \u001b[0mself\u001b[0m\u001b[0;34m.\u001b[0m\u001b[0mkwargs\u001b[0m\u001b[0;34m[\u001b[0m\u001b[0;34m\"pagination_token\"\u001b[0m\u001b[0;34m]\u001b[0m \u001b[0;34m=\u001b[0m \u001b[0mpagination_token\u001b[0m\u001b[0;34m\u001b[0m\u001b[0;34m\u001b[0m\u001b[0m\n\u001b[1;32m     95\u001b[0m \u001b[0;34m\u001b[0m\u001b[0m\n\u001b[0;32m---> 96\u001b[0;31m         \u001b[0mresponse\u001b[0m \u001b[0;34m=\u001b[0m \u001b[0mself\u001b[0m\u001b[0;34m.\u001b[0m\u001b[0mmethod\u001b[0m\u001b[0;34m(\u001b[0m\u001b[0;34m*\u001b[0m\u001b[0mself\u001b[0m\u001b[0;34m.\u001b[0m\u001b[0margs\u001b[0m\u001b[0;34m,\u001b[0m \u001b[0;34m**\u001b[0m\u001b[0mself\u001b[0m\u001b[0;34m.\u001b[0m\u001b[0mkwargs\u001b[0m\u001b[0;34m)\u001b[0m\u001b[0;34m\u001b[0m\u001b[0;34m\u001b[0m\u001b[0m\n\u001b[0m\u001b[1;32m     97\u001b[0m \u001b[0;34m\u001b[0m\u001b[0m\n\u001b[1;32m     98\u001b[0m         \u001b[0mself\u001b[0m\u001b[0;34m.\u001b[0m\u001b[0mprevious_token\u001b[0m \u001b[0;34m=\u001b[0m \u001b[0mresponse\u001b[0m\u001b[0;34m.\u001b[0m\u001b[0mmeta\u001b[0m\u001b[0;34m.\u001b[0m\u001b[0mget\u001b[0m\u001b[0;34m(\u001b[0m\u001b[0;34m\"previous_token\"\u001b[0m\u001b[0;34m)\u001b[0m\u001b[0;34m\u001b[0m\u001b[0;34m\u001b[0m\u001b[0m\n",
      "\u001b[0;32m~/opt/miniconda3/envs/musa-550-fall-2021/lib/python3.8/site-packages/tweepy/client.py\u001b[0m in \u001b[0;36msearch_all_tweets\u001b[0;34m(self, query, **params)\u001b[0m\n\u001b[1;32m    697\u001b[0m         \"\"\"\n\u001b[1;32m    698\u001b[0m         \u001b[0mparams\u001b[0m\u001b[0;34m[\u001b[0m\u001b[0;34m\"query\"\u001b[0m\u001b[0;34m]\u001b[0m \u001b[0;34m=\u001b[0m \u001b[0mquery\u001b[0m\u001b[0;34m\u001b[0m\u001b[0;34m\u001b[0m\u001b[0m\n\u001b[0;32m--> 699\u001b[0;31m         return self._make_request(\n\u001b[0m\u001b[1;32m    700\u001b[0m             \u001b[0;34m\"GET\"\u001b[0m\u001b[0;34m,\u001b[0m \u001b[0;34m\"/2/tweets/search/all\"\u001b[0m\u001b[0;34m,\u001b[0m \u001b[0mparams\u001b[0m\u001b[0;34m=\u001b[0m\u001b[0mparams\u001b[0m\u001b[0;34m,\u001b[0m\u001b[0;34m\u001b[0m\u001b[0;34m\u001b[0m\u001b[0m\n\u001b[1;32m    701\u001b[0m             endpoint_parameters=(\n",
      "\u001b[0;32m~/opt/miniconda3/envs/musa-550-fall-2021/lib/python3.8/site-packages/tweepy/client.py\u001b[0m in \u001b[0;36m_make_request\u001b[0;34m(self, method, route, params, endpoint_parameters, json, data_type, user_auth)\u001b[0m\n\u001b[1;32m    164\u001b[0m                 \u001b[0mlog\u001b[0m\u001b[0;34m.\u001b[0m\u001b[0mwarn\u001b[0m\u001b[0;34m(\u001b[0m\u001b[0;34mf\"Unexpected parameter: {param_name}\"\u001b[0m\u001b[0;34m)\u001b[0m\u001b[0;34m\u001b[0m\u001b[0;34m\u001b[0m\u001b[0m\n\u001b[1;32m    165\u001b[0m \u001b[0;34m\u001b[0m\u001b[0m\n\u001b[0;32m--> 166\u001b[0;31m         response = self.request(method, route, params=request_params,\n\u001b[0m\u001b[1;32m    167\u001b[0m                                 json=json, user_auth=user_auth)\n\u001b[1;32m    168\u001b[0m \u001b[0;34m\u001b[0m\u001b[0m\n",
      "\u001b[0;32m~/opt/miniconda3/envs/musa-550-fall-2021/lib/python3.8/site-packages/tweepy/client.py\u001b[0m in \u001b[0;36mrequest\u001b[0;34m(self, method, route, params, json, user_auth)\u001b[0m\n\u001b[1;32m    106\u001b[0m         )\n\u001b[1;32m    107\u001b[0m \u001b[0;34m\u001b[0m\u001b[0m\n\u001b[0;32m--> 108\u001b[0;31m         with self.session.request(\n\u001b[0m\u001b[1;32m    109\u001b[0m             \u001b[0mmethod\u001b[0m\u001b[0;34m,\u001b[0m \u001b[0mhost\u001b[0m \u001b[0;34m+\u001b[0m \u001b[0mroute\u001b[0m\u001b[0;34m,\u001b[0m \u001b[0mparams\u001b[0m\u001b[0;34m=\u001b[0m\u001b[0mparams\u001b[0m\u001b[0;34m,\u001b[0m \u001b[0mjson\u001b[0m\u001b[0;34m=\u001b[0m\u001b[0mjson\u001b[0m\u001b[0;34m,\u001b[0m \u001b[0mheaders\u001b[0m\u001b[0;34m=\u001b[0m\u001b[0mheaders\u001b[0m\u001b[0;34m,\u001b[0m\u001b[0;34m\u001b[0m\u001b[0;34m\u001b[0m\u001b[0m\n\u001b[1;32m    110\u001b[0m             \u001b[0mauth\u001b[0m\u001b[0;34m=\u001b[0m\u001b[0mauth\u001b[0m\u001b[0;34m\u001b[0m\u001b[0;34m\u001b[0m\u001b[0m\n",
      "\u001b[0;32m~/opt/miniconda3/envs/musa-550-fall-2021/lib/python3.8/site-packages/requests/sessions.py\u001b[0m in \u001b[0;36mrequest\u001b[0;34m(self, method, url, params, data, headers, cookies, files, auth, timeout, allow_redirects, proxies, hooks, stream, verify, cert, json)\u001b[0m\n\u001b[1;32m    540\u001b[0m         }\n\u001b[1;32m    541\u001b[0m         \u001b[0msend_kwargs\u001b[0m\u001b[0;34m.\u001b[0m\u001b[0mupdate\u001b[0m\u001b[0;34m(\u001b[0m\u001b[0msettings\u001b[0m\u001b[0;34m)\u001b[0m\u001b[0;34m\u001b[0m\u001b[0;34m\u001b[0m\u001b[0m\n\u001b[0;32m--> 542\u001b[0;31m         \u001b[0mresp\u001b[0m \u001b[0;34m=\u001b[0m \u001b[0mself\u001b[0m\u001b[0;34m.\u001b[0m\u001b[0msend\u001b[0m\u001b[0;34m(\u001b[0m\u001b[0mprep\u001b[0m\u001b[0;34m,\u001b[0m \u001b[0;34m**\u001b[0m\u001b[0msend_kwargs\u001b[0m\u001b[0;34m)\u001b[0m\u001b[0;34m\u001b[0m\u001b[0;34m\u001b[0m\u001b[0m\n\u001b[0m\u001b[1;32m    543\u001b[0m \u001b[0;34m\u001b[0m\u001b[0m\n\u001b[1;32m    544\u001b[0m         \u001b[0;32mreturn\u001b[0m \u001b[0mresp\u001b[0m\u001b[0;34m\u001b[0m\u001b[0;34m\u001b[0m\u001b[0m\n",
      "\u001b[0;32m~/opt/miniconda3/envs/musa-550-fall-2021/lib/python3.8/site-packages/requests/sessions.py\u001b[0m in \u001b[0;36msend\u001b[0;34m(self, request, **kwargs)\u001b[0m\n\u001b[1;32m    653\u001b[0m \u001b[0;34m\u001b[0m\u001b[0m\n\u001b[1;32m    654\u001b[0m         \u001b[0;31m# Send the request\u001b[0m\u001b[0;34m\u001b[0m\u001b[0;34m\u001b[0m\u001b[0;34m\u001b[0m\u001b[0m\n\u001b[0;32m--> 655\u001b[0;31m         \u001b[0mr\u001b[0m \u001b[0;34m=\u001b[0m \u001b[0madapter\u001b[0m\u001b[0;34m.\u001b[0m\u001b[0msend\u001b[0m\u001b[0;34m(\u001b[0m\u001b[0mrequest\u001b[0m\u001b[0;34m,\u001b[0m \u001b[0;34m**\u001b[0m\u001b[0mkwargs\u001b[0m\u001b[0;34m)\u001b[0m\u001b[0;34m\u001b[0m\u001b[0;34m\u001b[0m\u001b[0m\n\u001b[0m\u001b[1;32m    656\u001b[0m \u001b[0;34m\u001b[0m\u001b[0m\n\u001b[1;32m    657\u001b[0m         \u001b[0;31m# Total elapsed time of the request (approximately)\u001b[0m\u001b[0;34m\u001b[0m\u001b[0;34m\u001b[0m\u001b[0;34m\u001b[0m\u001b[0m\n",
      "\u001b[0;32m~/opt/miniconda3/envs/musa-550-fall-2021/lib/python3.8/site-packages/requests/adapters.py\u001b[0m in \u001b[0;36msend\u001b[0;34m(self, request, stream, timeout, verify, cert, proxies)\u001b[0m\n\u001b[1;32m    437\u001b[0m         \u001b[0;32mtry\u001b[0m\u001b[0;34m:\u001b[0m\u001b[0;34m\u001b[0m\u001b[0;34m\u001b[0m\u001b[0m\n\u001b[1;32m    438\u001b[0m             \u001b[0;32mif\u001b[0m \u001b[0;32mnot\u001b[0m \u001b[0mchunked\u001b[0m\u001b[0;34m:\u001b[0m\u001b[0;34m\u001b[0m\u001b[0;34m\u001b[0m\u001b[0m\n\u001b[0;32m--> 439\u001b[0;31m                 resp = conn.urlopen(\n\u001b[0m\u001b[1;32m    440\u001b[0m                     \u001b[0mmethod\u001b[0m\u001b[0;34m=\u001b[0m\u001b[0mrequest\u001b[0m\u001b[0;34m.\u001b[0m\u001b[0mmethod\u001b[0m\u001b[0;34m,\u001b[0m\u001b[0;34m\u001b[0m\u001b[0;34m\u001b[0m\u001b[0m\n\u001b[1;32m    441\u001b[0m                     \u001b[0murl\u001b[0m\u001b[0;34m=\u001b[0m\u001b[0murl\u001b[0m\u001b[0;34m,\u001b[0m\u001b[0;34m\u001b[0m\u001b[0;34m\u001b[0m\u001b[0m\n",
      "\u001b[0;32m~/opt/miniconda3/envs/musa-550-fall-2021/lib/python3.8/site-packages/urllib3/connectionpool.py\u001b[0m in \u001b[0;36murlopen\u001b[0;34m(self, method, url, body, headers, retries, redirect, assert_same_host, timeout, pool_timeout, release_conn, chunked, body_pos, **response_kw)\u001b[0m\n\u001b[1;32m    697\u001b[0m \u001b[0;34m\u001b[0m\u001b[0m\n\u001b[1;32m    698\u001b[0m             \u001b[0;31m# Make the request on the httplib connection object.\u001b[0m\u001b[0;34m\u001b[0m\u001b[0;34m\u001b[0m\u001b[0;34m\u001b[0m\u001b[0m\n\u001b[0;32m--> 699\u001b[0;31m             httplib_response = self._make_request(\n\u001b[0m\u001b[1;32m    700\u001b[0m                 \u001b[0mconn\u001b[0m\u001b[0;34m,\u001b[0m\u001b[0;34m\u001b[0m\u001b[0;34m\u001b[0m\u001b[0m\n\u001b[1;32m    701\u001b[0m                 \u001b[0mmethod\u001b[0m\u001b[0;34m,\u001b[0m\u001b[0;34m\u001b[0m\u001b[0;34m\u001b[0m\u001b[0m\n",
      "\u001b[0;32m~/opt/miniconda3/envs/musa-550-fall-2021/lib/python3.8/site-packages/urllib3/connectionpool.py\u001b[0m in \u001b[0;36m_make_request\u001b[0;34m(self, conn, method, url, timeout, chunked, **httplib_request_kw)\u001b[0m\n\u001b[1;32m    443\u001b[0m                     \u001b[0;31m# Python 3 (including for exceptions like SystemExit).\u001b[0m\u001b[0;34m\u001b[0m\u001b[0;34m\u001b[0m\u001b[0;34m\u001b[0m\u001b[0m\n\u001b[1;32m    444\u001b[0m                     \u001b[0;31m# Otherwise it looks like a bug in the code.\u001b[0m\u001b[0;34m\u001b[0m\u001b[0;34m\u001b[0m\u001b[0;34m\u001b[0m\u001b[0m\n\u001b[0;32m--> 445\u001b[0;31m                     \u001b[0msix\u001b[0m\u001b[0;34m.\u001b[0m\u001b[0mraise_from\u001b[0m\u001b[0;34m(\u001b[0m\u001b[0me\u001b[0m\u001b[0;34m,\u001b[0m \u001b[0;32mNone\u001b[0m\u001b[0;34m)\u001b[0m\u001b[0;34m\u001b[0m\u001b[0;34m\u001b[0m\u001b[0m\n\u001b[0m\u001b[1;32m    446\u001b[0m         \u001b[0;32mexcept\u001b[0m \u001b[0;34m(\u001b[0m\u001b[0mSocketTimeout\u001b[0m\u001b[0;34m,\u001b[0m \u001b[0mBaseSSLError\u001b[0m\u001b[0;34m,\u001b[0m \u001b[0mSocketError\u001b[0m\u001b[0;34m)\u001b[0m \u001b[0;32mas\u001b[0m \u001b[0me\u001b[0m\u001b[0;34m:\u001b[0m\u001b[0;34m\u001b[0m\u001b[0;34m\u001b[0m\u001b[0m\n\u001b[1;32m    447\u001b[0m             \u001b[0mself\u001b[0m\u001b[0;34m.\u001b[0m\u001b[0m_raise_timeout\u001b[0m\u001b[0;34m(\u001b[0m\u001b[0merr\u001b[0m\u001b[0;34m=\u001b[0m\u001b[0me\u001b[0m\u001b[0;34m,\u001b[0m \u001b[0murl\u001b[0m\u001b[0;34m=\u001b[0m\u001b[0murl\u001b[0m\u001b[0;34m,\u001b[0m \u001b[0mtimeout_value\u001b[0m\u001b[0;34m=\u001b[0m\u001b[0mread_timeout\u001b[0m\u001b[0;34m)\u001b[0m\u001b[0;34m\u001b[0m\u001b[0;34m\u001b[0m\u001b[0m\n",
      "\u001b[0;32m~/opt/miniconda3/envs/musa-550-fall-2021/lib/python3.8/site-packages/urllib3/packages/six.py\u001b[0m in \u001b[0;36mraise_from\u001b[0;34m(value, from_value)\u001b[0m\n",
      "\u001b[0;32m~/opt/miniconda3/envs/musa-550-fall-2021/lib/python3.8/site-packages/urllib3/connectionpool.py\u001b[0m in \u001b[0;36m_make_request\u001b[0;34m(self, conn, method, url, timeout, chunked, **httplib_request_kw)\u001b[0m\n\u001b[1;32m    438\u001b[0m                 \u001b[0;31m# Python 3\u001b[0m\u001b[0;34m\u001b[0m\u001b[0;34m\u001b[0m\u001b[0;34m\u001b[0m\u001b[0m\n\u001b[1;32m    439\u001b[0m                 \u001b[0;32mtry\u001b[0m\u001b[0;34m:\u001b[0m\u001b[0;34m\u001b[0m\u001b[0;34m\u001b[0m\u001b[0m\n\u001b[0;32m--> 440\u001b[0;31m                     \u001b[0mhttplib_response\u001b[0m \u001b[0;34m=\u001b[0m \u001b[0mconn\u001b[0m\u001b[0;34m.\u001b[0m\u001b[0mgetresponse\u001b[0m\u001b[0;34m(\u001b[0m\u001b[0;34m)\u001b[0m\u001b[0;34m\u001b[0m\u001b[0;34m\u001b[0m\u001b[0m\n\u001b[0m\u001b[1;32m    441\u001b[0m                 \u001b[0;32mexcept\u001b[0m \u001b[0mBaseException\u001b[0m \u001b[0;32mas\u001b[0m \u001b[0me\u001b[0m\u001b[0;34m:\u001b[0m\u001b[0;34m\u001b[0m\u001b[0;34m\u001b[0m\u001b[0m\n\u001b[1;32m    442\u001b[0m                     \u001b[0;31m# Remove the TypeError from the exception chain in\u001b[0m\u001b[0;34m\u001b[0m\u001b[0;34m\u001b[0m\u001b[0;34m\u001b[0m\u001b[0m\n",
      "\u001b[0;32m~/opt/miniconda3/envs/musa-550-fall-2021/lib/python3.8/http/client.py\u001b[0m in \u001b[0;36mgetresponse\u001b[0;34m(self)\u001b[0m\n\u001b[1;32m   1342\u001b[0m         \u001b[0;32mtry\u001b[0m\u001b[0;34m:\u001b[0m\u001b[0;34m\u001b[0m\u001b[0;34m\u001b[0m\u001b[0m\n\u001b[1;32m   1343\u001b[0m             \u001b[0;32mtry\u001b[0m\u001b[0;34m:\u001b[0m\u001b[0;34m\u001b[0m\u001b[0;34m\u001b[0m\u001b[0m\n\u001b[0;32m-> 1344\u001b[0;31m                 \u001b[0mresponse\u001b[0m\u001b[0;34m.\u001b[0m\u001b[0mbegin\u001b[0m\u001b[0;34m(\u001b[0m\u001b[0;34m)\u001b[0m\u001b[0;34m\u001b[0m\u001b[0;34m\u001b[0m\u001b[0m\n\u001b[0m\u001b[1;32m   1345\u001b[0m             \u001b[0;32mexcept\u001b[0m \u001b[0mConnectionError\u001b[0m\u001b[0;34m:\u001b[0m\u001b[0;34m\u001b[0m\u001b[0;34m\u001b[0m\u001b[0m\n\u001b[1;32m   1346\u001b[0m                 \u001b[0mself\u001b[0m\u001b[0;34m.\u001b[0m\u001b[0mclose\u001b[0m\u001b[0;34m(\u001b[0m\u001b[0;34m)\u001b[0m\u001b[0;34m\u001b[0m\u001b[0;34m\u001b[0m\u001b[0m\n",
      "\u001b[0;32m~/opt/miniconda3/envs/musa-550-fall-2021/lib/python3.8/http/client.py\u001b[0m in \u001b[0;36mbegin\u001b[0;34m(self)\u001b[0m\n\u001b[1;32m    305\u001b[0m         \u001b[0;31m# read until we get a non-100 response\u001b[0m\u001b[0;34m\u001b[0m\u001b[0;34m\u001b[0m\u001b[0;34m\u001b[0m\u001b[0m\n\u001b[1;32m    306\u001b[0m         \u001b[0;32mwhile\u001b[0m \u001b[0;32mTrue\u001b[0m\u001b[0;34m:\u001b[0m\u001b[0;34m\u001b[0m\u001b[0;34m\u001b[0m\u001b[0m\n\u001b[0;32m--> 307\u001b[0;31m             \u001b[0mversion\u001b[0m\u001b[0;34m,\u001b[0m \u001b[0mstatus\u001b[0m\u001b[0;34m,\u001b[0m \u001b[0mreason\u001b[0m \u001b[0;34m=\u001b[0m \u001b[0mself\u001b[0m\u001b[0;34m.\u001b[0m\u001b[0m_read_status\u001b[0m\u001b[0;34m(\u001b[0m\u001b[0;34m)\u001b[0m\u001b[0;34m\u001b[0m\u001b[0;34m\u001b[0m\u001b[0m\n\u001b[0m\u001b[1;32m    308\u001b[0m             \u001b[0;32mif\u001b[0m \u001b[0mstatus\u001b[0m \u001b[0;34m!=\u001b[0m \u001b[0mCONTINUE\u001b[0m\u001b[0;34m:\u001b[0m\u001b[0;34m\u001b[0m\u001b[0;34m\u001b[0m\u001b[0m\n\u001b[1;32m    309\u001b[0m                 \u001b[0;32mbreak\u001b[0m\u001b[0;34m\u001b[0m\u001b[0;34m\u001b[0m\u001b[0m\n",
      "\u001b[0;32m~/opt/miniconda3/envs/musa-550-fall-2021/lib/python3.8/http/client.py\u001b[0m in \u001b[0;36m_read_status\u001b[0;34m(self)\u001b[0m\n\u001b[1;32m    266\u001b[0m \u001b[0;34m\u001b[0m\u001b[0m\n\u001b[1;32m    267\u001b[0m     \u001b[0;32mdef\u001b[0m \u001b[0m_read_status\u001b[0m\u001b[0;34m(\u001b[0m\u001b[0mself\u001b[0m\u001b[0;34m)\u001b[0m\u001b[0;34m:\u001b[0m\u001b[0;34m\u001b[0m\u001b[0;34m\u001b[0m\u001b[0m\n\u001b[0;32m--> 268\u001b[0;31m         \u001b[0mline\u001b[0m \u001b[0;34m=\u001b[0m \u001b[0mstr\u001b[0m\u001b[0;34m(\u001b[0m\u001b[0mself\u001b[0m\u001b[0;34m.\u001b[0m\u001b[0mfp\u001b[0m\u001b[0;34m.\u001b[0m\u001b[0mreadline\u001b[0m\u001b[0;34m(\u001b[0m\u001b[0m_MAXLINE\u001b[0m \u001b[0;34m+\u001b[0m \u001b[0;36m1\u001b[0m\u001b[0;34m)\u001b[0m\u001b[0;34m,\u001b[0m \u001b[0;34m\"iso-8859-1\"\u001b[0m\u001b[0;34m)\u001b[0m\u001b[0;34m\u001b[0m\u001b[0;34m\u001b[0m\u001b[0m\n\u001b[0m\u001b[1;32m    269\u001b[0m         \u001b[0;32mif\u001b[0m \u001b[0mlen\u001b[0m\u001b[0;34m(\u001b[0m\u001b[0mline\u001b[0m\u001b[0;34m)\u001b[0m \u001b[0;34m>\u001b[0m \u001b[0m_MAXLINE\u001b[0m\u001b[0;34m:\u001b[0m\u001b[0;34m\u001b[0m\u001b[0;34m\u001b[0m\u001b[0m\n\u001b[1;32m    270\u001b[0m             \u001b[0;32mraise\u001b[0m \u001b[0mLineTooLong\u001b[0m\u001b[0;34m(\u001b[0m\u001b[0;34m\"status line\"\u001b[0m\u001b[0;34m)\u001b[0m\u001b[0;34m\u001b[0m\u001b[0;34m\u001b[0m\u001b[0m\n",
      "\u001b[0;32m~/opt/miniconda3/envs/musa-550-fall-2021/lib/python3.8/socket.py\u001b[0m in \u001b[0;36mreadinto\u001b[0;34m(self, b)\u001b[0m\n\u001b[1;32m    667\u001b[0m         \u001b[0;32mwhile\u001b[0m \u001b[0;32mTrue\u001b[0m\u001b[0;34m:\u001b[0m\u001b[0;34m\u001b[0m\u001b[0;34m\u001b[0m\u001b[0m\n\u001b[1;32m    668\u001b[0m             \u001b[0;32mtry\u001b[0m\u001b[0;34m:\u001b[0m\u001b[0;34m\u001b[0m\u001b[0;34m\u001b[0m\u001b[0m\n\u001b[0;32m--> 669\u001b[0;31m                 \u001b[0;32mreturn\u001b[0m \u001b[0mself\u001b[0m\u001b[0;34m.\u001b[0m\u001b[0m_sock\u001b[0m\u001b[0;34m.\u001b[0m\u001b[0mrecv_into\u001b[0m\u001b[0;34m(\u001b[0m\u001b[0mb\u001b[0m\u001b[0;34m)\u001b[0m\u001b[0;34m\u001b[0m\u001b[0;34m\u001b[0m\u001b[0m\n\u001b[0m\u001b[1;32m    670\u001b[0m             \u001b[0;32mexcept\u001b[0m \u001b[0mtimeout\u001b[0m\u001b[0;34m:\u001b[0m\u001b[0;34m\u001b[0m\u001b[0;34m\u001b[0m\u001b[0m\n\u001b[1;32m    671\u001b[0m                 \u001b[0mself\u001b[0m\u001b[0;34m.\u001b[0m\u001b[0m_timeout_occurred\u001b[0m \u001b[0;34m=\u001b[0m \u001b[0;32mTrue\u001b[0m\u001b[0;34m\u001b[0m\u001b[0;34m\u001b[0m\u001b[0m\n",
      "\u001b[0;32m~/opt/miniconda3/envs/musa-550-fall-2021/lib/python3.8/ssl.py\u001b[0m in \u001b[0;36mrecv_into\u001b[0;34m(self, buffer, nbytes, flags)\u001b[0m\n\u001b[1;32m   1239\u001b[0m                   \u001b[0;34m\"non-zero flags not allowed in calls to recv_into() on %s\"\u001b[0m \u001b[0;34m%\u001b[0m\u001b[0;34m\u001b[0m\u001b[0;34m\u001b[0m\u001b[0m\n\u001b[1;32m   1240\u001b[0m                   self.__class__)\n\u001b[0;32m-> 1241\u001b[0;31m             \u001b[0;32mreturn\u001b[0m \u001b[0mself\u001b[0m\u001b[0;34m.\u001b[0m\u001b[0mread\u001b[0m\u001b[0;34m(\u001b[0m\u001b[0mnbytes\u001b[0m\u001b[0;34m,\u001b[0m \u001b[0mbuffer\u001b[0m\u001b[0;34m)\u001b[0m\u001b[0;34m\u001b[0m\u001b[0;34m\u001b[0m\u001b[0m\n\u001b[0m\u001b[1;32m   1242\u001b[0m         \u001b[0;32melse\u001b[0m\u001b[0;34m:\u001b[0m\u001b[0;34m\u001b[0m\u001b[0;34m\u001b[0m\u001b[0m\n\u001b[1;32m   1243\u001b[0m             \u001b[0;32mreturn\u001b[0m \u001b[0msuper\u001b[0m\u001b[0;34m(\u001b[0m\u001b[0;34m)\u001b[0m\u001b[0;34m.\u001b[0m\u001b[0mrecv_into\u001b[0m\u001b[0;34m(\u001b[0m\u001b[0mbuffer\u001b[0m\u001b[0;34m,\u001b[0m \u001b[0mnbytes\u001b[0m\u001b[0;34m,\u001b[0m \u001b[0mflags\u001b[0m\u001b[0;34m)\u001b[0m\u001b[0;34m\u001b[0m\u001b[0;34m\u001b[0m\u001b[0m\n",
      "\u001b[0;32m~/opt/miniconda3/envs/musa-550-fall-2021/lib/python3.8/ssl.py\u001b[0m in \u001b[0;36mread\u001b[0;34m(self, len, buffer)\u001b[0m\n\u001b[1;32m   1097\u001b[0m         \u001b[0;32mtry\u001b[0m\u001b[0;34m:\u001b[0m\u001b[0;34m\u001b[0m\u001b[0;34m\u001b[0m\u001b[0m\n\u001b[1;32m   1098\u001b[0m             \u001b[0;32mif\u001b[0m \u001b[0mbuffer\u001b[0m \u001b[0;32mis\u001b[0m \u001b[0;32mnot\u001b[0m \u001b[0;32mNone\u001b[0m\u001b[0;34m:\u001b[0m\u001b[0;34m\u001b[0m\u001b[0;34m\u001b[0m\u001b[0m\n\u001b[0;32m-> 1099\u001b[0;31m                 \u001b[0;32mreturn\u001b[0m \u001b[0mself\u001b[0m\u001b[0;34m.\u001b[0m\u001b[0m_sslobj\u001b[0m\u001b[0;34m.\u001b[0m\u001b[0mread\u001b[0m\u001b[0;34m(\u001b[0m\u001b[0mlen\u001b[0m\u001b[0;34m,\u001b[0m \u001b[0mbuffer\u001b[0m\u001b[0;34m)\u001b[0m\u001b[0;34m\u001b[0m\u001b[0;34m\u001b[0m\u001b[0m\n\u001b[0m\u001b[1;32m   1100\u001b[0m             \u001b[0;32melse\u001b[0m\u001b[0;34m:\u001b[0m\u001b[0;34m\u001b[0m\u001b[0;34m\u001b[0m\u001b[0m\n\u001b[1;32m   1101\u001b[0m                 \u001b[0;32mreturn\u001b[0m \u001b[0mself\u001b[0m\u001b[0;34m.\u001b[0m\u001b[0m_sslobj\u001b[0m\u001b[0;34m.\u001b[0m\u001b[0mread\u001b[0m\u001b[0;34m(\u001b[0m\u001b[0mlen\u001b[0m\u001b[0;34m)\u001b[0m\u001b[0;34m\u001b[0m\u001b[0;34m\u001b[0m\u001b[0m\n",
      "\u001b[0;31mKeyboardInterrupt\u001b[0m: "
     ]
    }
   ],
   "source": [
    "results = []\n",
    "max_results_per_request = 500 # must be between 10 and 500\n",
    "\n",
    "# Use the paginator to loop over all available tweets in batches of 500\n",
    "# This pulls 500 tweets at a time until all tweets from the time period are pulled\n",
    "for i, tweets in enumerate(\n",
    "    tw.Paginator(\n",
    "        client.search_all_tweets,\n",
    "        query=query,\n",
    "        tweet_fields=[\"created_at\"], # Request additional fields \n",
    "        max_results=max_results_per_request,\n",
    "        start_time=start_date,\n",
    "        end_time=end_date,\n",
    "        # limit = 10000 # Optional maximum limit to be returned\n",
    "    )\n",
    "):\n",
    "        \n",
    "    # Log each time a new request is made\n",
    "    print(f\"Request #{i}\")\n",
    "    \n",
    "    # Saves all of the tweets \n",
    "    results += tweets.data\n",
    "            \n",
    "    # Sleep for 1 second to avoid rate limit\n",
    "    time.sleep(1)"
   ]
  },
  {
   "cell_type": "code",
   "execution_count": 119,
   "id": "541d62d1",
   "metadata": {},
   "outputs": [],
   "source": [
    "# Convert to a dataframe and make a datetime column\n",
    "results = pd.DataFrame(results)\n",
    "results['created_at'] = pd.to_datetime(results['created_at'])"
   ]
  },
  {
   "cell_type": "code",
   "execution_count": 223,
   "id": "2c80a518",
   "metadata": {},
   "outputs": [
    {
     "data": {
      "text/plain": [
       "86792"
      ]
     },
     "execution_count": 223,
     "metadata": {},
     "output_type": "execute_result"
    }
   ],
   "source": [
    "len(results)"
   ]
  },
  {
   "cell_type": "code",
   "execution_count": 122,
   "id": "fa6d22c1",
   "metadata": {},
   "outputs": [
    {
     "data": {
      "text/html": [
       "<div>\n",
       "<style scoped>\n",
       "    .dataframe tbody tr th:only-of-type {\n",
       "        vertical-align: middle;\n",
       "    }\n",
       "\n",
       "    .dataframe tbody tr th {\n",
       "        vertical-align: top;\n",
       "    }\n",
       "\n",
       "    .dataframe thead th {\n",
       "        text-align: right;\n",
       "    }\n",
       "</style>\n",
       "<table border=\"1\" class=\"dataframe\">\n",
       "  <thead>\n",
       "    <tr style=\"text-align: right;\">\n",
       "      <th></th>\n",
       "      <th>created_at</th>\n",
       "      <th>id</th>\n",
       "      <th>text</th>\n",
       "      <th>withheld</th>\n",
       "    </tr>\n",
       "  </thead>\n",
       "  <tbody>\n",
       "    <tr>\n",
       "      <th>0</th>\n",
       "      <td>2020-12-30 23:48:27+00:00</td>\n",
       "      <td>1344430178311745536</td>\n",
       "      <td>The reason Carson Wentz &amp;amp; Bryce Harper get...</td>\n",
       "      <td>NaN</td>\n",
       "    </tr>\n",
       "    <tr>\n",
       "      <th>1</th>\n",
       "      <td>2020-12-30 23:30:15+00:00</td>\n",
       "      <td>1344425598777610241</td>\n",
       "      <td>#MLB 2020 Year In Review\\n\\nPitch Quality Lead...</td>\n",
       "      <td>NaN</td>\n",
       "    </tr>\n",
       "    <tr>\n",
       "      <th>2</th>\n",
       "      <td>2020-12-30 22:58:24+00:00</td>\n",
       "      <td>1344417581361410051</td>\n",
       "      <td>#Phillies fans might be feeling déjà vu when c...</td>\n",
       "      <td>NaN</td>\n",
       "    </tr>\n",
       "    <tr>\n",
       "      <th>3</th>\n",
       "      <td>2020-12-30 22:58:19+00:00</td>\n",
       "      <td>1344417561417560064</td>\n",
       "      <td>#Phillies fans might be feeling déjà vu when c...</td>\n",
       "      <td>NaN</td>\n",
       "    </tr>\n",
       "    <tr>\n",
       "      <th>4</th>\n",
       "      <td>2020-12-30 22:33:51+00:00</td>\n",
       "      <td>1344411405932494852</td>\n",
       "      <td>The latest Left-Handed News! https://t.co/xhPI...</td>\n",
       "      <td>NaN</td>\n",
       "    </tr>\n",
       "  </tbody>\n",
       "</table>\n",
       "</div>"
      ],
      "text/plain": [
       "                 created_at                   id  \\\n",
       "0 2020-12-30 23:48:27+00:00  1344430178311745536   \n",
       "1 2020-12-30 23:30:15+00:00  1344425598777610241   \n",
       "2 2020-12-30 22:58:24+00:00  1344417581361410051   \n",
       "3 2020-12-30 22:58:19+00:00  1344417561417560064   \n",
       "4 2020-12-30 22:33:51+00:00  1344411405932494852   \n",
       "\n",
       "                                                text withheld  \n",
       "0  The reason Carson Wentz &amp; Bryce Harper get...      NaN  \n",
       "1  #MLB 2020 Year In Review\\n\\nPitch Quality Lead...      NaN  \n",
       "2  #Phillies fans might be feeling déjà vu when c...      NaN  \n",
       "3  #Phillies fans might be feeling déjà vu when c...      NaN  \n",
       "4  The latest Left-Handed News! https://t.co/xhPI...      NaN  "
      ]
     },
     "execution_count": 122,
     "metadata": {},
     "output_type": "execute_result"
    }
   ],
   "source": [
    "results.head()"
   ]
  },
  {
   "cell_type": "markdown",
   "id": "9aa0adc5",
   "metadata": {},
   "source": [
    "Plot the monthly tweet counts:"
   ]
  },
  {
   "cell_type": "code",
   "execution_count": 156,
   "id": "a72da96e",
   "metadata": {},
   "outputs": [
    {
     "data": {
      "image/png": "[encoded data removed]",
      "text/plain": [
       "<Figure size 720x432 with 1 Axes>"
      ]
     },
     "metadata": {
      "needs_background": "light"
     },
     "output_type": "display_data"
    }
   ],
   "source": [
    "# Calculate monthly tweet totals\n",
    "monthly_count = results['created_at'].dt.month.value_counts().sort_index()\n",
    "\n",
    "# Initialize the figure\n",
    "fig, ax = plt.subplots(figsize=(10, 6))\n",
    "\n",
    "# Plot\n",
    "monthly_count.plot(kind='bar', ax=ax)\n",
    "\n",
    "# Format\n",
    "ax.set_xticks(range(0, 12))\n",
    "ax.set_xticklabels([calendar.month_abbr[v] for v in range(1, 13)], rotation=0);\n",
    "ax.set_yticks(np.arange(0, 25e3, 5e3))\n",
    "ax.set_yticklabels([f\"{v:,.0f}\" for v in ax.get_yticks()]);"
   ]
  },
  {
   "cell_type": "markdown",
   "id": "2479ec11",
   "metadata": {},
   "source": [
    "## 2. Filtering tweets by location\n",
    "\n",
    "For more information, see this [tutorial](https://developer.twitter.com/en/docs/tutorials/filtering-tweets-by-location) on the Twitter documentation. Specifically, this tutorial includes [a number of examples](https://developer.twitter.com/en/docs/tutorials/filtering-tweets-by-location#usage-examples)."
   ]
  },
  {
   "cell_type": "markdown",
   "id": "5deb8f96",
   "metadata": {},
   "source": [
    "### 2A. Get tweets associated with a specific place\n",
    "\n",
    "This will get all tweets geo-tagged as in Philadelphia.\n",
    "\n",
    "To do this, use the `place` operator."
   ]
  },
  {
   "cell_type": "code",
   "execution_count": 188,
   "id": "59c0f950",
   "metadata": {
    "scrolled": false
   },
   "outputs": [
    {
     "name": "stdout",
     "output_type": "stream",
     "text": [
      "1468266278611738624\n",
      "“I ain’t an athlete, lady” - John Kruk ⚾️ \n",
      ".\n",
      "https://t.co/VMh2r5nYVi\n",
      ".\n",
      "#Phillies #Philly #Phila #PhiladelphiaPhillies #Johnkruk @ Philadelphia, Pennsylvania https://t.co/Ax4RxuDI1N\n",
      "Philadelphia, PA\n",
      "\n",
      "1466388965137727494\n",
      "The good thing about the #mlblockout is that I don't have to refresh my feed every five minutes and be disappointed in the lack of #Phillies moves.\n",
      "Philadelphia, PA\n",
      "\n",
      "1465893956340879363\n",
      "William James (not Bill) understands what the #Phillies are choosing.\n",
      "Philadelphia, PA\n",
      "\n",
      "1465730094312443904\n",
      "When you see that the #Phillies signed someone and your heart starts pounding, then you see who it is and that same heart breaks. https://t.co/KOzB1dClvO\n",
      "Philadelphia, PA\n",
      "\n",
      "1465577041667964935\n",
      "RUMOR: #Phillies y RP COREY KNEBEL\n",
      "En avanzadas negociaciones, el ex-relevista de los #Dodgers y Cerrador de #Brewers \n",
      "Es un gran competidor con 2 excelentes pitcheos una Recta 97 MPH (58%) y una de los mejores knuckle curves 80 MPH (41%) de #MLB \n",
      "https://t.co/ggJ5qBoTQM\n",
      "Philadelphia, PA\n",
      "\n",
      "1465372384723189765\n",
      "Hey John Middleton, where’s that stupid money we heard about? #Phillies @johnmiddleton https://t.co/OgVnn5Ft8G\n",
      "Philadelphia, PA\n",
      "\n",
      "1465360097027186697\n",
      "Looks like the biggest off season move for the #Phillies is bringing back the original Phillie Phanatic.\n",
      "Philadelphia, PA\n",
      "\n",
      "1465071842675376133\n",
      "Welp. So much for that idea. #Phillies https://t.co/3kOn4YB51v\n",
      "Philadelphia, PA\n",
      "\n",
      "1464673353772507137\n",
      "MUCHAS GRACIAS HÉCTOR 🙌🇩🇴⚾️ \n",
      "Durante 8 Temporadas fuiste un gran  líder, una inspiración para todos y te vas como el relevista más ponchador en la Historia de los #Phillies\n",
      "Te vamos a estrañar y te deseamos lo mejor con los #Astros \n",
      "Hasta Pronto Hermano!! 🤗🤗 #MLB https://t.co/Mwvt7WhNlV\n",
      "Philadelphia, PA\n",
      "\n",
      "1464483056719388678\n",
      "PHILLIES PENSANDO EN GRANDE de acuerdo a @theaceofspaeder \n",
      "Las prioridades de los #Phillies LF, CF/1er bate, Closer + Neris.\n",
      "Los rumores nos conectan con LF Castellanos, CFs Buxton/Reynolds/Mullins y 3B/OF Bryant (cercano a Harper) \n",
      "#RingTheBell #MLB https://t.co/hIuLA0IAS5 https://t.co/HIgZuGo1a9\n",
      "Philadelphia, PA\n",
      "\n"
     ]
    }
   ],
   "source": [
    "query = \"#phillies -is:retweet place:Philadelphia\"\n",
    "\n",
    "tweets = client.search_all_tweets(\n",
    "    query=query,\n",
    "    tweet_fields=[\"created_at\", \"geo\"],\n",
    "    place_fields=[\"place_type\", \"geo\"],\n",
    "    expansions=\"geo.place_id\",\n",
    "    max_results=10,\n",
    ")\n",
    "\n",
    "# Get list of places from includes object\n",
    "places = {p[\"id\"]: p for p in tweets.includes['places']}\n",
    "\n",
    "# Print out info\n",
    "for tweet in tweets.data:\n",
    "    print(tweet.id)\n",
    "    print(tweet.text)\n",
    "    if places[tweet.geo['place_id']]:\n",
    "        place = places[tweet.geo['place_id']]\n",
    "        print(place.full_name)\n",
    "        \n",
    "    print()"
   ]
  },
  {
   "cell_type": "code",
   "execution_count": 177,
   "id": "5037e38b",
   "metadata": {},
   "outputs": [
    {
     "data": {
      "text/plain": [
       "{'text': '“I ain’t an athlete, lady” - John Kruk ⚾️ \\n.\\nhttps://t.co/VMh2r5nYVi\\n.\\n#Phillies #Philly #Phila #PhiladelphiaPhillies #Johnkruk @ Philadelphia, Pennsylvania https://t.co/Ax4RxuDI1N',\n",
       " 'created_at': '2021-12-07T17:08:54.000Z',\n",
       " 'id': '1468266278611738624',\n",
       " 'geo': {'coordinates': {'type': 'Point', 'coordinates': [-75.1651, 39.9527]},\n",
       "  'place_id': 'e4a0d228eb6be76b'}}"
      ]
     },
     "execution_count": 177,
     "metadata": {},
     "output_type": "execute_result"
    }
   ],
   "source": [
    "tweets.data[0].data"
   ]
  },
  {
   "cell_type": "markdown",
   "id": "5ce39a0d",
   "metadata": {},
   "source": [
    "### 2B. Search within a given radius \n",
    "\n",
    "This will get all tweets within 25 milies of the centroid of Philadelphia. \n",
    "\n",
    "To do this, use the `point_radius` operator. **Note:** maximum radius is 25 miles."
   ]
  },
  {
   "cell_type": "code",
   "execution_count": 190,
   "id": "7c00e6ba",
   "metadata": {},
   "outputs": [
    {
     "name": "stdout",
     "output_type": "stream",
     "text": [
      "1468266278611738624\n",
      "“I ain’t an athlete, lady” - John Kruk ⚾️ \n",
      ".\n",
      "https://t.co/VMh2r5nYVi\n",
      ".\n",
      "#Phillies #Philly #Phila #PhiladelphiaPhillies #Johnkruk @ Philadelphia, Pennsylvania https://t.co/Ax4RxuDI1N\n",
      "Philadelphia, PA\n",
      "\n",
      "1467843105671892999\n",
      "I made some new friends after the game yesterday by joining these guys on their podcast.  Fun conversation about the game and some quick baseball hits at the end!   #TakeFlight #FlyEaglesFly #Phillies https://t.co/jhiVD4EM7u\n",
      "Marlton, NJ\n",
      "\n",
      "1467126878087663623\n",
      "#PhilliesHolidays READY at @PhilliesCBP!! #Phillies https://t.co/VtJgo9L9N3\n",
      "New Era Phillies Team Store\n",
      "\n",
      "1466388965137727494\n",
      "The good thing about the #mlblockout is that I don't have to refresh my feed every five minutes and be disappointed in the lack of #Phillies moves.\n",
      "Philadelphia, PA\n",
      "\n",
      "1466142960924381200\n",
      "about damn time #Phillies 😁 #RingTheBell https://t.co/1x7oA9O5x2\n",
      "Drexel Hill, PA\n",
      "\n",
      "1466008870212489218\n",
      "The @Phillies have been _______  quiet, so far in Free agency…  #Phillies #MLBFreeAgency\n",
      "Oaklyn, NJ\n",
      "\n",
      "1465893956340879363\n",
      "William James (not Bill) understands what the #Phillies are choosing.\n",
      "Philadelphia, PA\n",
      "\n",
      "1465730094312443904\n",
      "When you see that the #Phillies signed someone and your heart starts pounding, then you see who it is and that same heart breaks. https://t.co/KOzB1dClvO\n",
      "Philadelphia, PA\n",
      "\n",
      "1465577041667964935\n",
      "RUMOR: #Phillies y RP COREY KNEBEL\n",
      "En avanzadas negociaciones, el ex-relevista de los #Dodgers y Cerrador de #Brewers \n",
      "Es un gran competidor con 2 excelentes pitcheos una Recta 97 MPH (58%) y una de los mejores knuckle curves 80 MPH (41%) de #MLB \n",
      "https://t.co/ggJ5qBoTQM\n",
      "Philadelphia, PA\n",
      "\n",
      "1465372583268954130\n",
      "The #Mets are on a signing spree while the #Phillies are like https://t.co/VDdTey6F1u\n",
      "Horsham, PA\n",
      "\n"
     ]
    }
   ],
   "source": [
    "query = \"#phillies -is:retweet point_radius:[-75.1651 39.9527 25mi]\"\n",
    "\n",
    "tweets = client.search_all_tweets(\n",
    "    query=query,\n",
    "    tweet_fields=[\"created_at\", \"geo\"],\n",
    "    place_fields=[\"place_type\", \"geo\"],\n",
    "    expansions=\"geo.place_id\",\n",
    "    max_results=10,\n",
    ")\n",
    "\n",
    "# Get list of places from includes object\n",
    "places = {p[\"id\"]: p for p in tweets.includes['places']}\n",
    "\n",
    "# Print out info for each tweet\n",
    "for tweet in tweets.data:\n",
    "    \n",
    "    # Print out the tweet info\n",
    "    print(tweet.id)\n",
    "    print(tweet.text)\n",
    "    \n",
    "    # Print out the place name\n",
    "    if places[tweet.geo['place_id']]:\n",
    "        place = places[tweet.geo['place_id']]\n",
    "        print(place.full_name)\n",
    "        \n",
    "    print()"
   ]
  },
  {
   "cell_type": "code",
   "execution_count": 191,
   "id": "a61ef77e",
   "metadata": {},
   "outputs": [
    {
     "data": {
      "text/plain": [
       "{'e4a0d228eb6be76b': <Place id=e4a0d228eb6be76b full_name=Philadelphia, PA>,\n",
       " '860637a8dc169e00': <Place id=860637a8dc169e00 full_name=Marlton, NJ>,\n",
       " '11c9f1929c94f000': <Place id=11c9f1929c94f000 full_name=New Era Phillies Team Store>,\n",
       " '4eaabc683e109220': <Place id=4eaabc683e109220 full_name=Drexel Hill, PA>,\n",
       " '9095689305b0d9f2': <Place id=9095689305b0d9f2 full_name=Oaklyn, NJ>,\n",
       " '9b977bdde8553e88': <Place id=9b977bdde8553e88 full_name=Horsham, PA>}"
      ]
     },
     "execution_count": 191,
     "metadata": {},
     "output_type": "execute_result"
    }
   ],
   "source": [
    "places"
   ]
  },
  {
   "cell_type": "markdown",
   "id": "8f178408",
   "metadata": {},
   "source": [
    "**Note:** to get more than 500 tweets, you must use the Paginator class."
   ]
  },
  {
   "cell_type": "code",
   "execution_count": 193,
   "id": "1889742e",
   "metadata": {},
   "outputs": [],
   "source": [
    "# Convert to a dataframe and make a datetime column\n",
    "geo_results = pd.DataFrame(geo_results)\n",
    "geo_results['created_at'] = pd.to_datetime(geo_results['created_at'])"
   ]
  },
  {
   "cell_type": "code",
   "execution_count": 194,
   "id": "7a22e5cf",
   "metadata": {},
   "outputs": [
    {
     "data": {
      "text/html": [
       "<div>\n",
       "<style scoped>\n",
       "    .dataframe tbody tr th:only-of-type {\n",
       "        vertical-align: middle;\n",
       "    }\n",
       "\n",
       "    .dataframe tbody tr th {\n",
       "        vertical-align: top;\n",
       "    }\n",
       "\n",
       "    .dataframe thead th {\n",
       "        text-align: right;\n",
       "    }\n",
       "</style>\n",
       "<table border=\"1\" class=\"dataframe\">\n",
       "  <thead>\n",
       "    <tr style=\"text-align: right;\">\n",
       "      <th></th>\n",
       "      <th>created_at</th>\n",
       "      <th>geo</th>\n",
       "      <th>text</th>\n",
       "      <th>id</th>\n",
       "    </tr>\n",
       "  </thead>\n",
       "  <tbody>\n",
       "    <tr>\n",
       "      <th>0</th>\n",
       "      <td>2020-12-29 02:12:49+00:00</td>\n",
       "      <td>{'place_id': '4ebcf64484051ec2'}</td>\n",
       "      <td>@irockphilly @tbrax_sr @FranzkeLA That was dur...</td>\n",
       "      <td>1343741735223128064</td>\n",
       "    </tr>\n",
       "    <tr>\n",
       "      <th>1</th>\n",
       "      <td>2020-12-28 15:22:22+00:00</td>\n",
       "      <td>{'place_id': 'e4a0d228eb6be76b'}</td>\n",
       "      <td>@jerryd1426 @philliesbell @Phillies @ColeHamel...</td>\n",
       "      <td>1343578043844059137</td>\n",
       "    </tr>\n",
       "    <tr>\n",
       "      <th>2</th>\n",
       "      <td>2020-12-27 22:05:30+00:00</td>\n",
       "      <td>{'place_id': '4ebcf64484051ec2'}</td>\n",
       "      <td>The #Phillies starting pitcher the day DeSean ...</td>\n",
       "      <td>1343317104968294400</td>\n",
       "    </tr>\n",
       "    <tr>\n",
       "      <th>3</th>\n",
       "      <td>2020-12-26 19:28:30+00:00</td>\n",
       "      <td>{'place_id': 'e4a0d228eb6be76b'}</td>\n",
       "      <td>@philliesbell @Phillies @Cubs Great trade for ...</td>\n",
       "      <td>1342915208336060416</td>\n",
       "    </tr>\n",
       "    <tr>\n",
       "      <th>4</th>\n",
       "      <td>2020-12-24 01:53:43+00:00</td>\n",
       "      <td>{'place_id': '4ebcf64484051ec2'}</td>\n",
       "      <td>Maxey making a push to be the best #0 in town ...</td>\n",
       "      <td>1341924989348536321</td>\n",
       "    </tr>\n",
       "  </tbody>\n",
       "</table>\n",
       "</div>"
      ],
      "text/plain": [
       "                 created_at                               geo  \\\n",
       "0 2020-12-29 02:12:49+00:00  {'place_id': '4ebcf64484051ec2'}   \n",
       "1 2020-12-28 15:22:22+00:00  {'place_id': 'e4a0d228eb6be76b'}   \n",
       "2 2020-12-27 22:05:30+00:00  {'place_id': '4ebcf64484051ec2'}   \n",
       "3 2020-12-26 19:28:30+00:00  {'place_id': 'e4a0d228eb6be76b'}   \n",
       "4 2020-12-24 01:53:43+00:00  {'place_id': '4ebcf64484051ec2'}   \n",
       "\n",
       "                                                text                   id  \n",
       "0  @irockphilly @tbrax_sr @FranzkeLA That was dur...  1343741735223128064  \n",
       "1  @jerryd1426 @philliesbell @Phillies @ColeHamel...  1343578043844059137  \n",
       "2  The #Phillies starting pitcher the day DeSean ...  1343317104968294400  \n",
       "3  @philliesbell @Phillies @Cubs Great trade for ...  1342915208336060416  \n",
       "4  Maxey making a push to be the best #0 in town ...  1341924989348536321  "
      ]
     },
     "execution_count": 194,
     "metadata": {},
     "output_type": "execute_result"
    }
   ],
   "source": [
    "geo_results.head()"
   ]
  },
  {
   "cell_type": "markdown",
   "id": "0297a2b2",
   "metadata": {},
   "source": [
    "### 2C. Geo search with Paginator"
   ]
  },
  {
   "cell_type": "code",
   "execution_count": 7,
   "id": "8c8ca9d0",
   "metadata": {},
   "outputs": [
    {
     "name": "stdout",
     "output_type": "stream",
     "text": [
      "Response #1\n",
      "Response #2\n",
      "Response #3\n",
      "Response #4\n"
     ]
    }
   ],
   "source": [
    "query_results = []\n",
    "places = {}\n",
    "max_results_per_request = 500 # must be between 10 and 500\n",
    "\n",
    "# Use the paginator to loop over all available tweets in batches of 500\n",
    "# This pulls 500 tweets at a time until all tweets from the time period are pulled\n",
    "for i, tweets in enumerate(\n",
    "    tw.Paginator(\n",
    "        client.search_all_tweets,\n",
    "        query=\"#phillies -is:retweet point_radius:[-75.1651 39.9527 25mi]\",\n",
    "        tweet_fields=[\"created_at\", \"geo\"],\n",
    "        place_fields=[\"place_type\", \"geo\"],\n",
    "        expansions=\"geo.place_id\",\n",
    "        max_results=max_results_per_request,\n",
    "        start_time=start_date,\n",
    "        end_time=end_date,\n",
    "        limit=10\n",
    "    )\n",
    "):\n",
    "    print(f\"Response #{i+1}\")\n",
    "    \n",
    "    # Store the tweet data\n",
    "    # Note: 'tweets.data' is a list of the 500 tweets\n",
    "    query_results += tweets.data\n",
    "    \n",
    "    # Keep track of all of the places\n",
    "    for p in tweets.includes['places']:\n",
    "        places[p[\"id\"]] = p\n",
    "   \n",
    "    # Sleep for 1 second to avoid rate limit\n",
    "    time.sleep(1)"
   ]
  },
  {
   "cell_type": "code",
   "execution_count": 8,
   "id": "00926568",
   "metadata": {},
   "outputs": [],
   "source": [
    "# Convert to a dataframe and make a datetime column\n",
    "query_results = pd.DataFrame(query_results)\n",
    "query_results['created_at'] = pd.to_datetime(query_results['created_at'])\n",
    "\n",
    "# Extract out the place id as its own column\n",
    "query_results['place_id'] = query_results['geo'].apply(lambda geo: geo['place_id'])"
   ]
  },
  {
   "cell_type": "code",
   "execution_count": 17,
   "id": "83958019",
   "metadata": {},
   "outputs": [],
   "source": [
    "# Convert places dict to a dataframe\n",
    "places_df = []\n",
    "\n",
    "# Loop over each place_id\n",
    "for place_id in places:\n",
    "    \n",
    "    # Geo info for each place\n",
    "    values = places[place_id]\n",
    "    \n",
    "    # Convert to a dict\n",
    "    row = dict(values)\n",
    "    \n",
    "    # Save it\n",
    "    places_df.append(row)\n",
    "    \n",
    "# Initialize the dataframe\n",
    "places_df = pd.DataFrame(places_df).rename(columns={\"id\": \"place_id\"})"
   ]
  },
  {
   "cell_type": "code",
   "execution_count": 18,
   "id": "e5453695",
   "metadata": {},
   "outputs": [
    {
     "data": {
      "text/html": [
       "<div>\n",
       "<style scoped>\n",
       "    .dataframe tbody tr th:only-of-type {\n",
       "        vertical-align: middle;\n",
       "    }\n",
       "\n",
       "    .dataframe tbody tr th {\n",
       "        vertical-align: top;\n",
       "    }\n",
       "\n",
       "    .dataframe thead th {\n",
       "        text-align: right;\n",
       "    }\n",
       "</style>\n",
       "<table border=\"1\" class=\"dataframe\">\n",
       "  <thead>\n",
       "    <tr style=\"text-align: right;\">\n",
       "      <th></th>\n",
       "      <th>full_name</th>\n",
       "      <th>geo</th>\n",
       "      <th>place_id</th>\n",
       "      <th>place_type</th>\n",
       "    </tr>\n",
       "  </thead>\n",
       "  <tbody>\n",
       "    <tr>\n",
       "      <th>0</th>\n",
       "      <td>Penndel, PA</td>\n",
       "      <td>{'type': 'Feature', 'bbox': [-74.924109, 40.14...</td>\n",
       "      <td>4ebcf64484051ec2</td>\n",
       "      <td>city</td>\n",
       "    </tr>\n",
       "    <tr>\n",
       "      <th>1</th>\n",
       "      <td>Philadelphia, PA</td>\n",
       "      <td>{'type': 'Feature', 'bbox': [-75.280284, 39.87...</td>\n",
       "      <td>e4a0d228eb6be76b</td>\n",
       "      <td>city</td>\n",
       "    </tr>\n",
       "    <tr>\n",
       "      <th>2</th>\n",
       "      <td>Levittown, PA</td>\n",
       "      <td>{'type': 'Feature', 'bbox': [-74.898856, 40.12...</td>\n",
       "      <td>36561e80ad680e74</td>\n",
       "      <td>city</td>\n",
       "    </tr>\n",
       "    <tr>\n",
       "      <th>3</th>\n",
       "      <td>Drexel Hill, PA</td>\n",
       "      <td>{'type': 'Feature', 'bbox': [-75.331497, 39.91...</td>\n",
       "      <td>4eaabc683e109220</td>\n",
       "      <td>city</td>\n",
       "    </tr>\n",
       "    <tr>\n",
       "      <th>4</th>\n",
       "      <td>West Norriton, PA</td>\n",
       "      <td>{'type': 'Feature', 'bbox': [-75.423883, 40.10...</td>\n",
       "      <td>4e8e8d528cc56580</td>\n",
       "      <td>city</td>\n",
       "    </tr>\n",
       "  </tbody>\n",
       "</table>\n",
       "</div>"
      ],
      "text/plain": [
       "           full_name                                                geo  \\\n",
       "0        Penndel, PA  {'type': 'Feature', 'bbox': [-74.924109, 40.14...   \n",
       "1   Philadelphia, PA  {'type': 'Feature', 'bbox': [-75.280284, 39.87...   \n",
       "2      Levittown, PA  {'type': 'Feature', 'bbox': [-74.898856, 40.12...   \n",
       "3    Drexel Hill, PA  {'type': 'Feature', 'bbox': [-75.331497, 39.91...   \n",
       "4  West Norriton, PA  {'type': 'Feature', 'bbox': [-75.423883, 40.10...   \n",
       "\n",
       "           place_id place_type  \n",
       "0  4ebcf64484051ec2       city  \n",
       "1  e4a0d228eb6be76b       city  \n",
       "2  36561e80ad680e74       city  \n",
       "3  4eaabc683e109220       city  \n",
       "4  4e8e8d528cc56580       city  "
      ]
     },
     "execution_count": 18,
     "metadata": {},
     "output_type": "execute_result"
    }
   ],
   "source": [
    "places_df.head()"
   ]
  },
  {
   "cell_type": "code",
   "execution_count": 19,
   "id": "4e772b9b",
   "metadata": {},
   "outputs": [],
   "source": [
    "# Merge in the places geo data and the query results\n",
    "query_results_final = query_results.merge(places_df, how='left', on='place_id')"
   ]
  },
  {
   "cell_type": "code",
   "execution_count": 20,
   "id": "ba7ff32d",
   "metadata": {},
   "outputs": [
    {
     "data": {
      "text/html": [
       "<div>\n",
       "<style scoped>\n",
       "    .dataframe tbody tr th:only-of-type {\n",
       "        vertical-align: middle;\n",
       "    }\n",
       "\n",
       "    .dataframe tbody tr th {\n",
       "        vertical-align: top;\n",
       "    }\n",
       "\n",
       "    .dataframe thead th {\n",
       "        text-align: right;\n",
       "    }\n",
       "</style>\n",
       "<table border=\"1\" class=\"dataframe\">\n",
       "  <thead>\n",
       "    <tr style=\"text-align: right;\">\n",
       "      <th></th>\n",
       "      <th>created_at</th>\n",
       "      <th>geo_x</th>\n",
       "      <th>id</th>\n",
       "      <th>text</th>\n",
       "      <th>place_id</th>\n",
       "      <th>full_name</th>\n",
       "      <th>geo_y</th>\n",
       "      <th>place_type</th>\n",
       "    </tr>\n",
       "  </thead>\n",
       "  <tbody>\n",
       "    <tr>\n",
       "      <th>0</th>\n",
       "      <td>2020-12-29 02:12:49+00:00</td>\n",
       "      <td>{'place_id': '4ebcf64484051ec2'}</td>\n",
       "      <td>1343741735223128064</td>\n",
       "      <td>@irockphilly @tbrax_sr @FranzkeLA That was dur...</td>\n",
       "      <td>4ebcf64484051ec2</td>\n",
       "      <td>Penndel, PA</td>\n",
       "      <td>{'type': 'Feature', 'bbox': [-74.924109, 40.14...</td>\n",
       "      <td>city</td>\n",
       "    </tr>\n",
       "    <tr>\n",
       "      <th>1</th>\n",
       "      <td>2020-12-28 15:22:22+00:00</td>\n",
       "      <td>{'place_id': 'e4a0d228eb6be76b'}</td>\n",
       "      <td>1343578043844059137</td>\n",
       "      <td>@jerryd1426 @philliesbell @Phillies @ColeHamel...</td>\n",
       "      <td>e4a0d228eb6be76b</td>\n",
       "      <td>Philadelphia, PA</td>\n",
       "      <td>{'type': 'Feature', 'bbox': [-75.280284, 39.87...</td>\n",
       "      <td>city</td>\n",
       "    </tr>\n",
       "    <tr>\n",
       "      <th>2</th>\n",
       "      <td>2020-12-27 22:05:30+00:00</td>\n",
       "      <td>{'place_id': '4ebcf64484051ec2'}</td>\n",
       "      <td>1343317104968294400</td>\n",
       "      <td>The #Phillies starting pitcher the day DeSean ...</td>\n",
       "      <td>4ebcf64484051ec2</td>\n",
       "      <td>Penndel, PA</td>\n",
       "      <td>{'type': 'Feature', 'bbox': [-74.924109, 40.14...</td>\n",
       "      <td>city</td>\n",
       "    </tr>\n",
       "    <tr>\n",
       "      <th>3</th>\n",
       "      <td>2020-12-26 19:28:30+00:00</td>\n",
       "      <td>{'place_id': 'e4a0d228eb6be76b'}</td>\n",
       "      <td>1342915208336060416</td>\n",
       "      <td>@philliesbell @Phillies @Cubs Great trade for ...</td>\n",
       "      <td>e4a0d228eb6be76b</td>\n",
       "      <td>Philadelphia, PA</td>\n",
       "      <td>{'type': 'Feature', 'bbox': [-75.280284, 39.87...</td>\n",
       "      <td>city</td>\n",
       "    </tr>\n",
       "    <tr>\n",
       "      <th>4</th>\n",
       "      <td>2020-12-24 01:53:43+00:00</td>\n",
       "      <td>{'place_id': '4ebcf64484051ec2'}</td>\n",
       "      <td>1341924989348536321</td>\n",
       "      <td>Maxey making a push to be the best #0 in town ...</td>\n",
       "      <td>4ebcf64484051ec2</td>\n",
       "      <td>Penndel, PA</td>\n",
       "      <td>{'type': 'Feature', 'bbox': [-74.924109, 40.14...</td>\n",
       "      <td>city</td>\n",
       "    </tr>\n",
       "  </tbody>\n",
       "</table>\n",
       "</div>"
      ],
      "text/plain": [
       "                 created_at                             geo_x  \\\n",
       "0 2020-12-29 02:12:49+00:00  {'place_id': '4ebcf64484051ec2'}   \n",
       "1 2020-12-28 15:22:22+00:00  {'place_id': 'e4a0d228eb6be76b'}   \n",
       "2 2020-12-27 22:05:30+00:00  {'place_id': '4ebcf64484051ec2'}   \n",
       "3 2020-12-26 19:28:30+00:00  {'place_id': 'e4a0d228eb6be76b'}   \n",
       "4 2020-12-24 01:53:43+00:00  {'place_id': '4ebcf64484051ec2'}   \n",
       "\n",
       "                    id                                               text  \\\n",
       "0  1343741735223128064  @irockphilly @tbrax_sr @FranzkeLA That was dur...   \n",
       "1  1343578043844059137  @jerryd1426 @philliesbell @Phillies @ColeHamel...   \n",
       "2  1343317104968294400  The #Phillies starting pitcher the day DeSean ...   \n",
       "3  1342915208336060416  @philliesbell @Phillies @Cubs Great trade for ...   \n",
       "4  1341924989348536321  Maxey making a push to be the best #0 in town ...   \n",
       "\n",
       "           place_id         full_name  \\\n",
       "0  4ebcf64484051ec2       Penndel, PA   \n",
       "1  e4a0d228eb6be76b  Philadelphia, PA   \n",
       "2  4ebcf64484051ec2       Penndel, PA   \n",
       "3  e4a0d228eb6be76b  Philadelphia, PA   \n",
       "4  4ebcf64484051ec2       Penndel, PA   \n",
       "\n",
       "                                               geo_y place_type  \n",
       "0  {'type': 'Feature', 'bbox': [-74.924109, 40.14...       city  \n",
       "1  {'type': 'Feature', 'bbox': [-75.280284, 39.87...       city  \n",
       "2  {'type': 'Feature', 'bbox': [-74.924109, 40.14...       city  \n",
       "3  {'type': 'Feature', 'bbox': [-75.280284, 39.87...       city  \n",
       "4  {'type': 'Feature', 'bbox': [-74.924109, 40.14...       city  "
      ]
     },
     "execution_count": 20,
     "metadata": {},
     "output_type": "execute_result"
    }
   ],
   "source": [
    "query_results_final.head()"
   ]
  }
 ],
 "metadata": {
  "kernelspec": {
   "display_name": "Python 3 (ipykernel)",
   "language": "python",
   "name": "python3"
  },
  "language_info": {
   "codemirror_mode": {
    "name": "ipython",
    "version": 3
   },
   "file_extension": ".py",
   "mimetype": "text/x-python",
   "name": "python",
   "nbconvert_exporter": "python",
   "pygments_lexer": "ipython3",
   "version": "3.8.10"
  }
 },
 "nbformat": 4,
 "nbformat_minor": 5
}
